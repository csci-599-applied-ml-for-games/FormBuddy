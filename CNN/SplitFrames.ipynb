{
 "cells": [
  {
   "cell_type": "code",
   "execution_count": 2,
   "metadata": {},
   "outputs": [
    {
     "name": "stdout",
     "output_type": "stream",
     "text": [
      "4.1.1\n"
     ]
    }
   ],
   "source": [
    "import cv2\n",
    "print(cv2.__version__)"
   ]
  },
  {
   "cell_type": "code",
   "execution_count": 19,
   "metadata": {},
   "outputs": [
    {
     "name": "stdout",
     "output_type": "stream",
     "text": [
      "Number of videos to split into frames: 2\n",
      "Done!\n"
     ]
    }
   ],
   "source": [
    "#Required Libraries\n",
    "import cv2     # for capturing videos\n",
    "import math   # for mathematical operations\n",
    "import matplotlib.pyplot as plt    # for plotting the images\n",
    "import pandas as pd\n",
    "from keras.preprocessing import image   # for preprocessing the images\n",
    "import numpy as np    # for mathematical operations\n",
    "from keras.utils import np_utils\n",
    "import glob #For reading the files\n",
    "import os #For creating directories\n",
    "\n",
    "unseen_test_videos = 1 # set to 1 if you are splitting frames for unseen test videos, 0 for training videos\n",
    "\n",
    "#Reading Videos\n",
    "#This only gets the file names\n",
    "if unseen_test_videos == 0:\n",
    "    main_folder = \"Training_Videos/*\"\n",
    "    outputFrames_folder = 'New_Training_Video_Frames/'\n",
    "else:\n",
    "    main_folder = \"Unseen_Test_Videos/*\"\n",
    "    outputFrames_folder = 'Unseen_Test_Video_Frames/'\n",
    "videos = glob.glob(main_folder)\n",
    "print(\"Number of videos to split into frames:\",len(videos))\n",
    "\n",
    "#Dictionaries for NN and to keep track of the vides which have already been broken down into frames\n",
    "dict_exercise = {'BenchPress':0,'Deadlift':1,'Squat':2,'Military Press':3}\n",
    "inverted_dict_exercise = dict([[v,k] for k,v in dict_exercise.items()])\n",
    "#exercise_frames_count = {'Bench Press':0,'Deadlift':0,'Squat':0,'Military Press':0}\n",
    "\n",
    "dictionary_videos_done_good = {'BenchPress':[],'Deadlift':[],'Squat':[],'Military Press':[]}\n",
    "dictionary_videos_done_bad = {'BenchPress':[],'Deadlift':[],'Squat':[],'Military Press':[]}\n",
    "\n",
    "for video in videos:\n",
    "\n",
    "    #default video number\n",
    "    video_number = -5\n",
    "    filename = video.split('/')[-1]\n",
    "    index = filename.index('_')\n",
    "    \n",
    "    #Getting the second part of the file name after split\n",
    "    form_part = filename.split('_')[1]\n",
    "    folder_name = filename.split('.')[0]\n",
    "    \n",
    "    #print(\"Video:\",filename)\n",
    "    #print(\"Form Part:\",form_part)\n",
    "    #print('Directory Name:',directory_name)\n",
    "\n",
    "    #Obtaining indices to check whether a rep was done in good/bad form\n",
    "    if '(' in form_part:\n",
    "        #Index of '('\n",
    "        index_post_form = form_part.index('(')\n",
    "    else:\n",
    "        index_post_form = form_part.index('.')\n",
    "    \n",
    "    #Obtaining rep number\n",
    "    try:\n",
    "        index_bracket_open = filename.index('(')\n",
    "    \n",
    "        index_bracket_close = filename.index(')')\n",
    "    except:\n",
    "        video_number = 0\n",
    "\n",
    "    if video_number!=0:\n",
    "        video_number = int(filename[index_bracket_open+1:index_bracket_close])\n",
    "\n",
    "    #Exercise name\n",
    "    exercise = filename[:index]\n",
    "    #print(exercise)\n",
    "    \n",
    "    #Good/Bad form\n",
    "    form_good_bad = form_part[:index_post_form]\n",
    "    form_good_bad = form_good_bad.lstrip()\n",
    "    #print(\"THIS:\",form_good_bad)\n",
    "    \n",
    "#     sub_directory = 'New_Training_Video_Frames/'+exercise\n",
    "    sub_directory = outputFrames_folder+exercise\n",
    "    if not os.path.exists(sub_directory):\n",
    "            os.makedirs(sub_directory)\n",
    "    \n",
    "    if form_good_bad == 'Good':\n",
    "        #print(\"Dictionary Videos done list for good:\",dictionary_videos_done_good[exercise])\n",
    "        if video_number not in dictionary_videos_done_good[exercise]:\n",
    "            frame_number=0\n",
    "    else:\n",
    "        #print(\"Dictionary Videos done list for bad:\",dictionary_videos_done_bad[exercise])\n",
    "        if video_number not in dictionary_videos_done_bad[exercise]:\n",
    "            frame_number=0\n",
    "\n",
    "    vidcap = cv2.VideoCapture(video)\n",
    "    success,image = vidcap.read()\n",
    "    #count = 0\n",
    "    fps_multiplier = 100 # increase this number to decrease the fps (i.e 100 = 9fps, 1000 = 1fps)\n",
    "    success = True\n",
    "    folder_name = sub_directory+'/'+folder_name\n",
    "    #print(folder_name)\n",
    "    while success:\n",
    "        vidcap.set(cv2.CAP_PROP_POS_MSEC,(frame_number*fps_multiplier)) # caps the frame rate\n",
    "        if not os.path.exists(folder_name):\n",
    "            os.makedirs(folder_name)\n",
    "        filename = folder_name+\"/\"+exercise+\"_\"+form_good_bad+\"_\"+str(video_number)+\"_\"+str(frame_number)+\".jpg\"\n",
    "        cv2.imwrite(filename, image)     # save frame as JPEG file\n",
    "        success,image = vidcap.read()\n",
    "        #print(filename)\n",
    "        #print('Read a new frame: ', success)\n",
    "        frame_number += 1\n",
    "    \n",
    "    if form_good_bad == 'Good':\n",
    "        dictionary_videos_done_good[exercise].append(video_number)\n",
    "    else:\n",
    "        dictionary_videos_done_bad[exercise].append(video_number)\n",
    "print (\"Done!\")"
   ]
  },
  {
   "cell_type": "code",
   "execution_count": null,
   "metadata": {},
   "outputs": [],
   "source": []
  }
 ],
 "metadata": {
  "kernelspec": {
   "display_name": "Python 3",
   "language": "python",
   "name": "python3"
  },
  "language_info": {
   "codemirror_mode": {
    "name": "ipython",
    "version": 3
   },
   "file_extension": ".py",
   "mimetype": "text/x-python",
   "name": "python",
   "nbconvert_exporter": "python",
   "pygments_lexer": "ipython3",
   "version": "3.6.9"
  }
 },
 "nbformat": 4,
 "nbformat_minor": 2
}
